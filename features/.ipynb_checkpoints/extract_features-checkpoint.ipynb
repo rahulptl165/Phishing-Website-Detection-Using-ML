{
 "cells": [
  {
   "cell_type": "markdown",
   "id": "790409b2",
   "metadata": {},
   "source": [
    "# Phishing Website Detection Feature Extraction\n",
    "\n",
    "The objective of this notebook is to extract the selctive features form the URLs."
   ]
  },
  {
   "cell_type": "code",
   "execution_count": 2,
   "id": "b4b2730a",
   "metadata": {},
   "outputs": [],
   "source": [
    "#importing the required packages\n",
    "import pandas as pd "
   ]
  },
  {
   "cell_type": "markdown",
   "id": "2e249083",
   "metadata": {},
   "source": [
    "### Phising Url"
   ]
  },
  {
   "cell_type": "code",
   "execution_count": null,
   "id": "daa90e39",
   "metadata": {},
   "outputs": [
    {
     "ename": "",
     "evalue": "",
     "output_type": "error",
     "traceback": [
      "\u001b[1;31mRunning cells with 'Python 3.13.3' requires the ipykernel package.\n",
      "\u001b[1;31mRun the following command to install 'ipykernel' into the Python environment. \n",
      "\u001b[1;31mCommand: '/opt/homebrew/bin/python3 -m pip install ipykernel -U --user --force-reinstall'"
     ]
    }
   ],
   "source": [
    "# loading the phishing urls in dataframe\n",
    "df1 = pd.read_csv(r'../data/phishing_urls_48K.csv')\n",
    "df1.head()"
   ]
  },
  {
   "cell_type": "code",
   "execution_count": 20,
   "id": "b1cf0a2a",
   "metadata": {},
   "outputs": [
    {
     "data": {
      "text/html": [
       "<div>\n",
       "<style scoped>\n",
       "    .dataframe tbody tr th:only-of-type {\n",
       "        vertical-align: middle;\n",
       "    }\n",
       "\n",
       "    .dataframe tbody tr th {\n",
       "        vertical-align: top;\n",
       "    }\n",
       "\n",
       "    .dataframe thead th {\n",
       "        text-align: right;\n",
       "    }\n",
       "</style>\n",
       "<table border=\"1\" class=\"dataframe\">\n",
       "  <thead>\n",
       "    <tr style=\"text-align: right;\">\n",
       "      <th></th>\n",
       "      <th>URL</th>\n",
       "      <th>Label</th>\n",
       "    </tr>\n",
       "  </thead>\n",
       "  <tbody>\n",
       "    <tr>\n",
       "      <th>0</th>\n",
       "      <td>center-paypal-resolution-com.cgi-bin.dispatch9...</td>\n",
       "      <td>bad</td>\n",
       "    </tr>\n",
       "    <tr>\n",
       "      <th>1</th>\n",
       "      <td>bit.ly/SWeTMu</td>\n",
       "      <td>bad</td>\n",
       "    </tr>\n",
       "    <tr>\n",
       "      <th>2</th>\n",
       "      <td>www.ekriswebshop.nl/js/?cgi.ebay.ebay.co.uk?ro...</td>\n",
       "      <td>bad</td>\n",
       "    </tr>\n",
       "    <tr>\n",
       "      <th>3</th>\n",
       "      <td>www.itaupersonnakite.com</td>\n",
       "      <td>bad</td>\n",
       "    </tr>\n",
       "    <tr>\n",
       "      <th>4</th>\n",
       "      <td>esxcc.com/js/index.htm?us.battle.net/login/en/...</td>\n",
       "      <td>bad</td>\n",
       "    </tr>\n",
       "  </tbody>\n",
       "</table>\n",
       "</div>"
      ],
      "text/plain": [
       "                                                 URL Label\n",
       "0  center-paypal-resolution-com.cgi-bin.dispatch9...   bad\n",
       "1                                      bit.ly/SWeTMu   bad\n",
       "2  www.ekriswebshop.nl/js/?cgi.ebay.ebay.co.uk?ro...   bad\n",
       "3                           www.itaupersonnakite.com   bad\n",
       "4  esxcc.com/js/index.htm?us.battle.net/login/en/...   bad"
      ]
     },
     "execution_count": 20,
     "metadata": {},
     "output_type": "execute_result"
    }
   ],
   "source": [
    "# Collecting 10000 phishing urls random from our dataset\n",
    "phish_url = df1.sample(n=10000, random_state=22).copy()\n",
    "phish_url = phish_url.reset_index(drop=True)\n",
    "phish_url.head()"
   ]
  },
  {
   "cell_type": "markdown",
   "id": "b463c71f",
   "metadata": {},
   "source": [
    "### Legitimate Url"
   ]
  },
  {
   "cell_type": "code",
   "execution_count": 12,
   "id": "da0b97fb",
   "metadata": {},
   "outputs": [
    {
     "data": {
      "text/html": [
       "<div>\n",
       "<style scoped>\n",
       "    .dataframe tbody tr th:only-of-type {\n",
       "        vertical-align: middle;\n",
       "    }\n",
       "\n",
       "    .dataframe tbody tr th {\n",
       "        vertical-align: top;\n",
       "    }\n",
       "\n",
       "    .dataframe thead th {\n",
       "        text-align: right;\n",
       "    }\n",
       "</style>\n",
       "<table border=\"1\" class=\"dataframe\">\n",
       "  <thead>\n",
       "    <tr style=\"text-align: right;\">\n",
       "      <th></th>\n",
       "      <th>index</th>\n",
       "      <th>URL</th>\n",
       "    </tr>\n",
       "  </thead>\n",
       "  <tbody>\n",
       "    <tr>\n",
       "      <th>0</th>\n",
       "      <td>1</td>\n",
       "      <td>google.com</td>\n",
       "    </tr>\n",
       "    <tr>\n",
       "      <th>1</th>\n",
       "      <td>2</td>\n",
       "      <td>youtube.com</td>\n",
       "    </tr>\n",
       "    <tr>\n",
       "      <th>2</th>\n",
       "      <td>3</td>\n",
       "      <td>facebook.com</td>\n",
       "    </tr>\n",
       "    <tr>\n",
       "      <th>3</th>\n",
       "      <td>4</td>\n",
       "      <td>baidu.com</td>\n",
       "    </tr>\n",
       "    <tr>\n",
       "      <th>4</th>\n",
       "      <td>5</td>\n",
       "      <td>wikipedia.org</td>\n",
       "    </tr>\n",
       "  </tbody>\n",
       "</table>\n",
       "</div>"
      ],
      "text/plain": [
       "   index            URL\n",
       "0      1     google.com\n",
       "1      2    youtube.com\n",
       "2      3   facebook.com\n",
       "3      4      baidu.com\n",
       "4      5  wikipedia.org"
      ]
     },
     "execution_count": 12,
     "metadata": {},
     "output_type": "execute_result"
    }
   ],
   "source": [
    "# Loding the legitimate Urls into dataframe\n",
    "df2 = pd.read_csv(r'../data/top-1m.csv')\n",
    "df2.head()"
   ]
  },
  {
   "cell_type": "code",
   "execution_count": 13,
   "id": "a0ca4a07",
   "metadata": {},
   "outputs": [
    {
     "data": {
      "text/html": [
       "<div>\n",
       "<style scoped>\n",
       "    .dataframe tbody tr th:only-of-type {\n",
       "        vertical-align: middle;\n",
       "    }\n",
       "\n",
       "    .dataframe tbody tr th {\n",
       "        vertical-align: top;\n",
       "    }\n",
       "\n",
       "    .dataframe thead th {\n",
       "        text-align: right;\n",
       "    }\n",
       "</style>\n",
       "<table border=\"1\" class=\"dataframe\">\n",
       "  <thead>\n",
       "    <tr style=\"text-align: right;\">\n",
       "      <th></th>\n",
       "      <th>index</th>\n",
       "      <th>URL</th>\n",
       "    </tr>\n",
       "  </thead>\n",
       "  <tbody>\n",
       "    <tr>\n",
       "      <th>0</th>\n",
       "      <td>112005</td>\n",
       "      <td>whatismyscreenresolution.com</td>\n",
       "    </tr>\n",
       "    <tr>\n",
       "      <th>1</th>\n",
       "      <td>780467</td>\n",
       "      <td>str8guysecrets.tumblr.com</td>\n",
       "    </tr>\n",
       "    <tr>\n",
       "      <th>2</th>\n",
       "      <td>731929</td>\n",
       "      <td>amalric.fr</td>\n",
       "    </tr>\n",
       "    <tr>\n",
       "      <th>3</th>\n",
       "      <td>914379</td>\n",
       "      <td>keplergrp.com</td>\n",
       "    </tr>\n",
       "    <tr>\n",
       "      <th>4</th>\n",
       "      <td>880257</td>\n",
       "      <td>i24.cc</td>\n",
       "    </tr>\n",
       "  </tbody>\n",
       "</table>\n",
       "</div>"
      ],
      "text/plain": [
       "    index                           URL\n",
       "0  112005  whatismyscreenresolution.com\n",
       "1  780467     str8guysecrets.tumblr.com\n",
       "2  731929                    amalric.fr\n",
       "3  914379                 keplergrp.com\n",
       "4  880257                        i24.cc"
      ]
     },
     "execution_count": 13,
     "metadata": {},
     "output_type": "execute_result"
    }
   ],
   "source": [
    "# Collecting 10000 legitimate urls random from our dataset\n",
    "legit_url =df2.sample(n=10000, random_state=22).copy()\n",
    "legit_url = legit_url.reset_index(drop=True)\n",
    "legit_url.head()"
   ]
  },
  {
   "cell_type": "markdown",
   "id": "2ef0bb5d",
   "metadata": {},
   "source": [
    "### Feature Extraction:\n",
    "The extracted features are categorized into\n",
    "\n",
    "1. Address Bar based Features\n",
    "2. Domain based Features\n",
    "3. HTML & Javascript based Features"
   ]
  },
  {
   "cell_type": "markdown",
   "id": "9add260e",
   "metadata": {},
   "source": [
    "### Address Bar Based Features:"
   ]
  },
  {
   "cell_type": "code",
   "execution_count": 14,
   "id": "c605203d",
   "metadata": {},
   "outputs": [],
   "source": [
    "# importing required packages for this section\n",
    "from urllib.parse import urlparse, urlencode\n",
    "import ipaddress\n",
    "import re"
   ]
  },
  {
   "cell_type": "code",
   "execution_count": 22,
   "id": "8c0e673e",
   "metadata": {},
   "outputs": [],
   "source": [
    "# Domain of the Url (Domain)\n",
    "def getDomainUrl(url):\n",
    "    domain = urlparse(url).netloc\n",
    "    if re.match(r\"^www\",domain):\n",
    "        domain = domain.replace(\"www.\", \"\")\n",
    "    return domain"
   ]
  },
  {
   "cell_type": "code",
   "execution_count": 23,
   "id": "dc21e470",
   "metadata": {},
   "outputs": [],
   "source": [
    "# check for having ip add. in url (Have_IP)\n",
    "def checkIpAdd(url):\n",
    "    try:\n",
    "        ipaddress.ip_address(url)\n",
    "        ip = 1\n",
    "    except:\n",
    "        ip = 0\n",
    "    return ip"
   ]
  },
  {
   "cell_type": "code",
   "execution_count": 24,
   "id": "07c8a39b",
   "metadata": {},
   "outputs": [],
   "source": [
    "# check the presence of @ in url (Have_At)\n",
    "def haveAtSign(url):\n",
    "    if \"@\" in url:\n",
    "        at = 1\n",
    "    else:\n",
    "        at = 0\n",
    "    return at"
   ]
  },
  {
   "cell_type": "code",
   "execution_count": 25,
   "id": "2e9cf6cc",
   "metadata": {},
   "outputs": [],
   "source": [
    "# check for length of url, url greater than 75 charcteris consider as phishing (Url_Length)\n",
    "def getLength(url):\n",
    "    if len(url) > 75:\n",
    "        length = 1\n",
    "    else:\n",
    "        length = 0\n",
    "    return length"
   ]
  },
  {
   "cell_type": "code",
   "execution_count": 26,
   "id": "bebde5a2",
   "metadata": {},
   "outputs": [],
   "source": [
    "# check for url depth (Url_Depth)\n",
    "def getUrlDepth(url):\n",
    "    s = urlparse(url).path.split('/')\n",
    "    depth = 0\n",
    "    for j in len(s):\n",
    "        if len(s[j]) != 0:\n",
    "            depth = depth + 1\n",
    "    return depth"
   ]
  },
  {
   "cell_type": "code",
   "execution_count": 28,
   "id": "912e0107",
   "metadata": {},
   "outputs": [],
   "source": [
    "# check for url redirection \"//\" in the url (Redirection)\n",
    "def redirection(url):\n",
    "    pos = url.rfind('//')\n",
    "    if pos > 6 :\n",
    "        if pos > 7:\n",
    "            return 1\n",
    "        else:\n",
    "            return 0\n",
    "    else:\n",
    "        return 0"
   ]
  },
  {
   "cell_type": "code",
   "execution_count": 30,
   "id": "ef74da6d",
   "metadata": {},
   "outputs": [],
   "source": [
    "# check for existence of 'HTTPS' in domain (https_domain)\n",
    "def httpsDomain(url):\n",
    "    domain = urlpase(url).netloc\n",
    "    if 'https' in domain:\n",
    "        return 1\n",
    "    else:\n",
    "        return 0"
   ]
  },
  {
   "cell_type": "code",
   "execution_count": 31,
   "id": "69cdd9a1",
   "metadata": {},
   "outputs": [],
   "source": [
    "#listing shortening services\n",
    "shortening_services = r\"bit\\.ly|goo\\.gl|shorte\\.st|go2l\\.ink|x\\.co|ow\\.ly|t\\.co|tinyurl|tr\\.im|is\\.gd|cli\\.gs|\" \\\n",
    "                      r\"yfrog\\.com|migre\\.me|ff\\.im|tiny\\.cc|url4\\.eu|twit\\.ac|su\\.pr|twurl\\.nl|snipurl\\.com|\" \\\n",
    "                      r\"short\\.to|BudURL\\.com|ping\\.fm|post\\.ly|Just\\.as|bkite\\.com|snipr\\.com|fic\\.kr|loopt\\.us|\" \\\n",
    "                      r\"doiop\\.com|short\\.ie|kl\\.am|wp\\.me|rubyurl\\.com|om\\.ly|to\\.ly|bit\\.do|t\\.co|lnkd\\.in|db\\.tt|\" \\\n",
    "                      r\"qr\\.ae|adf\\.ly|goo\\.gl|bitly\\.com|cur\\.lv|tinyurl\\.com|ow\\.ly|bit\\.ly|ity\\.im|q\\.gs|is\\.gd|\" \\\n",
    "                      r\"po\\.st|bc\\.vc|twitthis\\.com|u\\.to|j\\.mp|buzurl\\.com|cutt\\.us|u\\.bb|yourls\\.org|x\\.co|\" \\\n",
    "                      r\"prettylinkpro\\.com|scrnch\\.me|filoops\\.info|vzturl\\.com|qr\\.net|1url\\.com|tweez\\.me|v\\.gd|\" \\\n",
    "                      r\"tr\\.im|link\\.zip\\.net\""
   ]
  },
  {
   "cell_type": "code",
   "execution_count": 32,
   "id": "4df7412f",
   "metadata": {},
   "outputs": [],
   "source": [
    "# check for shorting service (Tiny_Url)\n",
    "def tinyUrl(url):\n",
    "    match=re.search(shortening_services,url)\n",
    "    if match:\n",
    "        return 1\n",
    "    else:\n",
    "        return 0"
   ]
  },
  {
   "cell_type": "code",
   "execution_count": 1,
   "id": "39431171",
   "metadata": {},
   "outputs": [],
   "source": [
    "# check for prefix and suffix with this '-' symbol (Prefix/Suffix)\n",
    "def prefixSuffix(url):\n",
    "    if '-' in urlparse(url).netloc:\n",
    "        return 1\n",
    "    else:\n",
    "        return 0"
   ]
  },
  {
   "cell_type": "markdown",
   "id": "56ac5ba9",
   "metadata": {},
   "source": [
    "### Domain Based feature extraction"
   ]
  },
  {
   "cell_type": "code",
   "execution_count": 2,
   "id": "601da26a",
   "metadata": {},
   "outputs": [
    {
     "name": "stdout",
     "output_type": "stream",
     "text": [
      "Collecting python-whois\n",
      "  Obtaining dependency information for python-whois from https://files.pythonhosted.org/packages/be/7b/6a5ee6895b1bffb630da9c1a472ced41f537f2700f76e69bd62e01776e1b/python_whois-0.9.5-py3-none-any.whl.metadata\n",
      "  Downloading python_whois-0.9.5-py3-none-any.whl.metadata (2.6 kB)\n",
      "Requirement already satisfied: python-dateutil in c:\\users\\rahul\\anaconda3\\lib\\site-packages (from python-whois) (2.8.2)\n",
      "Requirement already satisfied: six>=1.5 in c:\\users\\rahul\\anaconda3\\lib\\site-packages (from python-dateutil->python-whois) (1.16.0)\n",
      "Downloading python_whois-0.9.5-py3-none-any.whl (104 kB)\n",
      "   ---------------------------------------- 0.0/104.2 kB ? eta -:--:--\n",
      "   ---------------------------------------- 0.0/104.2 kB ? eta -:--:--\n",
      "   --- ------------------------------------ 10.2/104.2 kB ? eta -:--:--\n",
      "   ------- ------------------------------- 20.5/104.2 kB 129.6 kB/s eta 0:00:01\n",
      "   ----------- --------------------------- 30.7/104.2 kB 163.8 kB/s eta 0:00:01\n",
      "   --------------- ----------------------- 41.0/104.2 kB 195.7 kB/s eta 0:00:01\n",
      "   -------------------------- ------------ 71.7/104.2 kB 280.5 kB/s eta 0:00:01\n",
      "   -------------------------------------- 104.2/104.2 kB 375.7 kB/s eta 0:00:00\n",
      "Installing collected packages: python-whois\n",
      "Successfully installed python-whois-0.9.5\n"
     ]
    }
   ],
   "source": [
    "!pip install python-whois"
   ]
  },
  {
   "cell_type": "code",
   "execution_count": 4,
   "id": "12c9d2f5",
   "metadata": {},
   "outputs": [],
   "source": [
    "# importing required packages for this section\n",
    "import socket\n",
    "import whois\n",
    "import datetime"
   ]
  },
  {
   "cell_type": "code",
   "execution_count": 3,
   "id": "e93570dc",
   "metadata": {},
   "outputs": [],
   "source": [
    "# check for dns record \n",
    "def has_dns_record(domain):\n",
    "    try:\n",
    "        socket.gethostbyname(domain)\n",
    "        return 1\n",
    "    except:\n",
    "        return 0"
   ]
  },
  {
   "cell_type": "code",
   "execution_count": 5,
   "id": "e2211b4e",
   "metadata": {},
   "outputs": [],
   "source": [
    "# check for domain age\n",
    "def domain_age(domain):\n",
    "    try:\n",
    "        w = whois.whois(domain)\n",
    "        creation_date = w.creation_date\n",
    "        today = datetime.datetime.now()\n",
    "        num_days = (today - creation_date).days\n",
    "        if num_days > 365 :\n",
    "            return 0\n",
    "        else:\n",
    "            return 1\n",
    "    except:\n",
    "        return 1"
   ]
  },
  {
   "cell_type": "code",
   "execution_count": 7,
   "id": "12bca42c",
   "metadata": {},
   "outputs": [],
   "source": [
    "# check for domain expairation date\n",
    "def domain_exp_date(domain):\n",
    "    try:\n",
    "        w = whois.whois(domain)\n",
    "        exp_date = w.expiration_date\n",
    "        today = datetime.datetime.now()\n",
    "        days_left = (exp_date - today)\n",
    "        if days_left > 183:\n",
    "            return 0\n",
    "        else:\n",
    "            return 1\n",
    "    except:\n",
    "        return 1"
   ]
  }
 ],
 "metadata": {
  "kernelspec": {
   "display_name": "Python 3",
   "language": "python",
   "name": "python3"
  },
  "language_info": {
   "codemirror_mode": {
    "name": "ipython",
    "version": 3
   },
   "file_extension": ".py",
   "mimetype": "text/x-python",
   "name": "python",
   "nbconvert_exporter": "python",
   "pygments_lexer": "ipython3",
   "version": "3.13.3"
  }
 },
 "nbformat": 4,
 "nbformat_minor": 5
}
